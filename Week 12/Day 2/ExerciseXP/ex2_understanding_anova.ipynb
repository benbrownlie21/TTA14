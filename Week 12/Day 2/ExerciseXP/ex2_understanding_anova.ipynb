{
 "cells": [
  {
   "cell_type": "code",
   "execution_count": 1,
   "id": "baff18e6-ba2b-444b-b433-2c226a33a6f9",
   "metadata": {},
   "outputs": [],
   "source": [
    "import numpy as np\n",
    "from scipy import stats\n",
    "import matplotlib.pyplot as plt"
   ]
  },
  {
   "cell_type": "code",
   "execution_count": 2,
   "id": "be3a3947-5051-48e8-985d-9ecbdc20c349",
   "metadata": {},
   "outputs": [],
   "source": [
    "fertilizer_1 = np.array([5, 6, 7, 6, 5])\n",
    "fertilizer_2 = np.array([7, 8, 7, 9, 8])\n",
    "fertilizer_3 = np.array([4, 5, 4, 3, 4])"
   ]
  },
  {
   "cell_type": "code",
   "execution_count": 3,
   "id": "c2ad7c0b-65c5-4862-bb1b-77cede53c727",
   "metadata": {},
   "outputs": [
    {
     "name": "stdout",
     "output_type": "stream",
     "text": [
      "F-value: 28.52631578947368\n",
      "P-value: 2.7542672098048448e-05\n"
     ]
    }
   ],
   "source": [
    "f_value, p_value = stats.f_oneway(fertilizer_1, fertilizer_2, fertilizer_3)\n",
    "print(\"F-value:\", f_value)\n",
    "print(\"P-value:\", p_value)"
   ]
  },
  {
   "cell_type": "markdown",
   "id": "33279e2d-faae-4b32-8f15-1e317d61857e",
   "metadata": {},
   "source": [
    "Based on the P-value, the fertilizers don't have significantly different effects on plant growth because the P-value is not close to zero"
   ]
  },
  {
   "cell_type": "markdown",
   "id": "949d3811-8d66-434f-9573-03098b295ec4",
   "metadata": {},
   "source": [
    "Explain what would happen if the P-value were greater than 0.05.\n",
    "\n",
    "As the P-value is great than 0.05 at 2.75 this means that what is happening with all three fertilizers is the same result, and they aren't all having different effects but the same effect on plant growth"
   ]
  }
 ],
 "metadata": {
  "kernelspec": {
   "display_name": "Python 3 (ipykernel)",
   "language": "python",
   "name": "python3"
  },
  "language_info": {
   "codemirror_mode": {
    "name": "ipython",
    "version": 3
   },
   "file_extension": ".py",
   "mimetype": "text/x-python",
   "name": "python",
   "nbconvert_exporter": "python",
   "pygments_lexer": "ipython3",
   "version": "3.9.17"
  }
 },
 "nbformat": 4,
 "nbformat_minor": 5
}
