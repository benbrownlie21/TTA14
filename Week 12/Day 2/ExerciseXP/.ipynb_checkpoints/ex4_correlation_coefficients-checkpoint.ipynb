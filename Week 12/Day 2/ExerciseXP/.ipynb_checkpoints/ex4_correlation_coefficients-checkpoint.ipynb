{
 "cells": [
  {
   "cell_type": "code",
   "execution_count": 8,
   "id": "c920a6d5-99c2-4255-bbcb-2a00f0b1318e",
   "metadata": {},
   "outputs": [],
   "source": [
    "import pandas as pd\n",
    "from scipy.stats import pearsonr, spearmanr"
   ]
  },
  {
   "cell_type": "code",
   "execution_count": 4,
   "id": "7c1d436b-034c-498d-99b5-53d95767ea1b",
   "metadata": {},
   "outputs": [],
   "source": [
    "data = pd.DataFrame({'age': [23, 25, 30, 35, 40], 'income': [35000, 40000, 50000, 60000, 70000]})"
   ]
  },
  {
   "cell_type": "code",
   "execution_count": 7,
   "id": "6284e778-a588-4436-89a1-d886b0039105",
   "metadata": {},
   "outputs": [
    {
     "name": "stdout",
     "output_type": "stream",
     "text": [
      "Pearson Correlation Coefficient: 1.00\n"
     ]
    }
   ],
   "source": [
    "# Calculate Pearson Correlation\n",
    "corr, _ = pearsonr(data['age'], data['income'])\n",
    "print(f'Pearson Correlation Coefficient: {corr:.2f}')"
   ]
  },
  {
   "cell_type": "code",
   "execution_count": 9,
   "id": "b27e8d92-186c-457a-9cd6-180d91b29b65",
   "metadata": {},
   "outputs": [
    {
     "name": "stdout",
     "output_type": "stream",
     "text": [
      "Spearman Rank Correlation: 1.00\n"
     ]
    }
   ],
   "source": [
    "# Calculate Spearman Rank Correlation\n",
    "corr, _ = spearmanr(data['age'], data['income'])\n",
    "print(f'Spearman Rank Correlation: {corr:.2f}')"
   ]
  }
 ],
 "metadata": {
  "kernelspec": {
   "display_name": "Python 3 (ipykernel)",
   "language": "python",
   "name": "python3"
  },
  "language_info": {
   "codemirror_mode": {
    "name": "ipython",
    "version": 3
   },
   "file_extension": ".py",
   "mimetype": "text/x-python",
   "name": "python",
   "nbconvert_exporter": "python",
   "pygments_lexer": "ipython3",
   "version": "3.9.17"
  }
 },
 "nbformat": 4,
 "nbformat_minor": 5
}
