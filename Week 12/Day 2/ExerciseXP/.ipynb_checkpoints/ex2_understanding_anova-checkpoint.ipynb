{
 "cells": [
  {
   "cell_type": "code",
   "execution_count": 1,
   "id": "baff18e6-ba2b-444b-b433-2c226a33a6f9",
   "metadata": {},
   "outputs": [],
   "source": [
    "import numpy as np\n",
    "from scipy import stats\n",
    "import matplotlib.pyplot as plt"
   ]
  },
  {
   "cell_type": "code",
   "execution_count": 2,
   "id": "be3a3947-5051-48e8-985d-9ecbdc20c349",
   "metadata": {},
   "outputs": [],
   "source": [
    "fertilizer_1 = np.array([5, 6, 7, 6, 5])\n",
    "fertilizer_2 = np.array([7, 8, 7, 9, 8])\n",
    "fertilizer_3 = np.array([4, 5, 4, 3, 4])"
   ]
  },
  {
   "cell_type": "code",
   "execution_count": null,
   "id": "c2ad7c0b-65c5-4862-bb1b-77cede53c727",
   "metadata": {},
   "outputs": [],
   "source": []
  }
 ],
 "metadata": {
  "kernelspec": {
   "display_name": "Python 3 (ipykernel)",
   "language": "python",
   "name": "python3"
  },
  "language_info": {
   "codemirror_mode": {
    "name": "ipython",
    "version": 3
   },
   "file_extension": ".py",
   "mimetype": "text/x-python",
   "name": "python",
   "nbconvert_exporter": "python",
   "pygments_lexer": "ipython3",
   "version": "3.9.17"
  }
 },
 "nbformat": 4,
 "nbformat_minor": 5
}
