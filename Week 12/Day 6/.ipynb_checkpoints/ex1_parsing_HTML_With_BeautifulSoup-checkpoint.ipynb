{
 "cells": [
  {
   "cell_type": "code",
   "execution_count": 5,
   "id": "a896bfa0-beff-47dc-8222-3da6cf935b58",
   "metadata": {},
   "outputs": [],
   "source": [
    "from bs4 import BeautifulSoup\n",
    "import urllib.request"
   ]
  },
  {
   "cell_type": "code",
   "execution_count": null,
   "id": "1e8c0585-d5b6-417d-b202-d5979162d7d2",
   "metadata": {},
   "outputs": [],
   "source": [
    "request_url = urllib.request.urlopen('https://www.bbc.com')\n",
    "print(request_url.read()) "
   ]
  },
  {
   "cell_type": "code",
   "execution_count": null,
   "id": "d5edefb5-8b66-4c1c-87bf-cde37d38f7b7",
   "metadata": {},
   "outputs": [],
   "source": []
  }
 ],
 "metadata": {
  "kernelspec": {
   "display_name": "Python 3 (ipykernel)",
   "language": "python",
   "name": "python3"
  },
  "language_info": {
   "codemirror_mode": {
    "name": "ipython",
    "version": 3
   },
   "file_extension": ".py",
   "mimetype": "text/x-python",
   "name": "python",
   "nbconvert_exporter": "python",
   "pygments_lexer": "ipython3",
   "version": "3.9.17"
  }
 },
 "nbformat": 4,
 "nbformat_minor": 5
}
