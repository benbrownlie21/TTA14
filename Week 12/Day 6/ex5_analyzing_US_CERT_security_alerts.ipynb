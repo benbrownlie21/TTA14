{
  "nbformat": 4,
  "nbformat_minor": 0,
  "metadata": {
    "colab": {
      "provenance": []
    },
    "kernelspec": {
      "name": "python3",
      "display_name": "Python 3"
    },
    "language_info": {
      "name": "python"
    }
  },
  "cells": [
    {
      "cell_type": "code",
      "execution_count": 1,
      "metadata": {
        "id": "el4xvLmm8zBd"
      },
      "outputs": [],
      "source": [
        "from bs4 import BeautifulSoup\n",
        "import urllib.request\n",
        "\n",
        "request_url = urllib.request.urlopen('https://www.cisa.gov/news-events/cybersecurity-advisories')\n",
        "\n",
        "soup = BeautifulSoup(request_url, 'html.parser')"
      ]
    },
    {
      "cell_type": "code",
      "source": [
        "alerts = soup.find_all(\"span\")\n",
        "\n",
        "# Print the list of all alerts\n",
        "print(\"List of all Alerts:\")\n",
        "for alert in alerts:\n",
        "    if \"Alert\" in alert.text.strip():\n",
        "        print(alert.name + ' -> ' + alert.text.strip())"
      ],
      "metadata": {
        "colab": {
          "base_uri": "https://localhost:8080/"
        },
        "id": "fTZAT_-F9Y03",
        "outputId": "e173fea1-7109-4c79-ad83-13044c491b68"
      },
      "execution_count": 3,
      "outputs": [
        {
          "output_type": "stream",
          "name": "stdout",
          "text": [
            "List of all Alerts:\n",
            "span -> Cybersecurity Alerts & Advisories\n",
            "span -> Alert\n",
            "span -> ICS Alert\n",
            "span -> Digital Alert Systems\n"
          ]
        }
      ]
    },
    {
      "cell_type": "code",
      "source": [],
      "metadata": {
        "id": "uquGN1Rs9_Il"
      },
      "execution_count": null,
      "outputs": []
    }
  ]
}