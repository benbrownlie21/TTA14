{
  "nbformat": 4,
  "nbformat_minor": 0,
  "metadata": {
    "colab": {
      "provenance": []
    },
    "kernelspec": {
      "name": "python3",
      "display_name": "Python 3"
    },
    "language_info": {
      "name": "python"
    }
  },
  "cells": [
    {
      "cell_type": "code",
      "execution_count": 1,
      "metadata": {
        "id": "Qb7WbUx07hNU"
      },
      "outputs": [],
      "source": [
        "from bs4 import BeautifulSoup\n",
        "import urllib.request\n",
        "\n",
        "request_url = urllib.request.urlopen('https://en.wikipedia.org')\n",
        "\n",
        "soup = BeautifulSoup(request_url, 'html.parser')"
      ]
    },
    {
      "cell_type": "code",
      "source": [
        "titles = soup.find_all([\"title\"])\n",
        "print(\"List of all the titles:\")\n",
        "for title in titles:\n",
        "    print(title.name + ' -> ' + title.text.strip())"
      ],
      "metadata": {
        "colab": {
          "base_uri": "https://localhost:8080/"
        },
        "id": "iJCQoB2S7v1d",
        "outputId": "2c0dddc5-d47b-4aaf-bc04-c5d0b424b106"
      },
      "execution_count": 2,
      "outputs": [
        {
          "output_type": "stream",
          "name": "stdout",
          "text": [
            "List of all the titles:\n",
            "title -> Wikipedia, the free encyclopedia\n"
          ]
        }
      ]
    }
  ]
}