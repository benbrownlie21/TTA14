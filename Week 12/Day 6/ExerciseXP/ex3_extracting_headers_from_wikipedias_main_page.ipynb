{
  "nbformat": 4,
  "nbformat_minor": 0,
  "metadata": {
    "colab": {
      "provenance": []
    },
    "kernelspec": {
      "name": "python3",
      "display_name": "Python 3"
    },
    "language_info": {
      "name": "python"
    }
  },
  "cells": [
    {
      "cell_type": "code",
      "execution_count": 1,
      "metadata": {
        "id": "9I0iGcK96CqH"
      },
      "outputs": [],
      "source": [
        "from bs4 import BeautifulSoup\n",
        "import urllib.request\n",
        "\n",
        "request_url = urllib.request.urlopen('https://en.wikipedia.org')\n",
        "\n",
        "soup = BeautifulSoup(request_url, 'html.parser')"
      ]
    },
    {
      "cell_type": "code",
      "source": [
        "headers = soup.find_all([\"h1\", \"h2\", \"h3\", \"h4\", \"h5\", \"h6\"])\n",
        "print(\"List of all the header tags:\")\n",
        "for header in headers:\n",
        "    print(header.name + ' -> ' + header.text.strip())"
      ],
      "metadata": {
        "colab": {
          "base_uri": "https://localhost:8080/"
        },
        "id": "U9vgtlq36PIw",
        "outputId": "06767bfd-da6c-4220-d43e-cee8d1b992f7"
      },
      "execution_count": 5,
      "outputs": [
        {
          "output_type": "stream",
          "name": "stdout",
          "text": [
            "List of all the header tags:\n",
            "h1 -> Main Page\n",
            "h1 -> Welcome to Wikipedia\n",
            "h2 -> From today's featured article\n",
            "h2 -> Did you know ...\n",
            "h2 -> In the news\n",
            "h2 -> On this day\n",
            "h2 -> From today's featured list\n",
            "h2 -> Today's featured picture\n",
            "h2 -> Other areas of Wikipedia\n",
            "h2 -> Wikipedia's sister projects\n",
            "h2 -> Wikipedia languages\n"
          ]
        }
      ]
    }
  ]
}