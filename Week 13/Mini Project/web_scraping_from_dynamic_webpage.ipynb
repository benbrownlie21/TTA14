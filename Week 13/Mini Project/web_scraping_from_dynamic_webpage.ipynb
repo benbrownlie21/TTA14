{
 "cells": [
  {
   "cell_type": "code",
   "execution_count": 56,
   "id": "61405b17-d43b-4c3a-97c8-d0a9933f633d",
   "metadata": {},
   "outputs": [],
   "source": [
    "from selenium import webdriver\n",
    "from selenium.webdriver.common.keys import Keys\n",
    "from selenium.webdriver.common.by import By\n",
    "from selenium.webdriver.support.ui import WebDriverWait\n",
    "from selenium.webdriver.support import expected_conditions as EC\n",
    "from bs4 import BeautifulSoup\n",
    "import pprint\n",
    "import csv\n",
    "\n",
    "options = webdriver.ChromeOptions()\n",
    "options.add_argument('--headless')\n",
    "options.add_argument(\"--no-sandbox\")\n",
    "options.add_argument(\"--disable-dev-shm-usage\")\n",
    "driver = webdriver.Chrome(options=options)"
   ]
  },
  {
   "cell_type": "code",
   "execution_count": 58,
   "id": "8c06eaa1-5a9c-4fe2-85b6-7cbd223ace67",
   "metadata": {},
   "outputs": [],
   "source": [
    "url = \"https://www.inmotionhosting.com/\"\n",
    "driver.get(url)"
   ]
  },
  {
   "cell_type": "code",
   "execution_count": 60,
   "id": "5c155f83-2a1d-4749-9ea9-19349fd5dc15",
   "metadata": {},
   "outputs": [],
   "source": [
    "soup = BeautifulSoup(driver.page_source, 'html.parser')\n",
    "hostings = soup.find_all(\"div\", class_=\"imh-rostrum-card\")"
   ]
  },
  {
   "cell_type": "code",
   "execution_count": 68,
   "id": "b146daee-55c3-499e-86f6-e422a4d5493f",
   "metadata": {},
   "outputs": [
    {
     "name": "stdout",
     "output_type": "stream",
     "text": [
      "Hosting Name: Shared Hosting\n",
      "Features: Cost effective and fast for small businesses\n",
      "Pricing: $3.19\n",
      "-------------\n",
      "Hosting Name: VPS Hosting\n",
      "Features: For high traffic sites and larger businesses\n",
      "Pricing: $9.99\n",
      "-------------\n",
      "Hosting Name: Dedicated Hosting\n",
      "Features: For the largest sites and custom deployments\n",
      "Pricing: $35.00\n",
      "-------------\n",
      "Hosting Name: cPanel WordPress\n",
      "Features: Expertly tuned hosting with cPanel\n",
      "Pricing: $3.69\n",
      "-------------\n",
      "Hosting Name: Platform InMotion\n",
      "Features: High performance managed WordPress\n",
      "Pricing: $11.67\n",
      "-------------\n",
      "Hosting Name: Shared Hosting\n",
      "Features: N/A\n",
      "Pricing: $3.19\n",
      "-------------\n",
      "Hosting Name: WordPress Hosting\n",
      "Features: N/A\n",
      "Pricing: $3.69\n",
      "-------------\n",
      "Hosting Name: VPS Hosting\n",
      "Features: N/A\n",
      "Pricing: $9.99\n",
      "-------------\n",
      "Hosting Name: Dedicated Hosting\n",
      "Features: N/A\n",
      "Pricing: $35.00\n",
      "-------------\n"
     ]
    }
   ],
   "source": [
    "data = []\n",
    "\n",
    "for hosting in hostings:\n",
    "    name_element = hosting.find(class_='h3 imh-rostrum-card-title')\n",
    "    features_element = hosting.find(class_='imh-rostrum-sub-title')\n",
    "    pricing_element = hosting.find(class_='rostrum-price')\n",
    "\n",
    "    name = name_element.get_text() if name_element else \"N/A\"\n",
    "    features = features_element.get_text() if features_element else \"N/A\"\n",
    "    pricing = pricing_element.get_text() if pricing_element else \"N/A\"\n",
    "\n",
    "    data.append([name, features, pricing])\n",
    "\n",
    "    print(f\"Hosting Name: {name}\")\n",
    "    print(f\"Features: {features}\")\n",
    "    print(f\"Pricing: {pricing}\")\n",
    "    print(\"-------------\")"
   ]
  },
  {
   "cell_type": "code",
   "execution_count": 70,
   "id": "f6426962-0d82-4038-b71e-27e7decfcd22",
   "metadata": {},
   "outputs": [],
   "source": [
    "csv_file = \"hosting_info.csv\"\n",
    "with open(csv_file, mode='w', newline='', encoding='utf-8') as file:\n",
    "    writer = csv.writer(file)\n",
    "    writer.writerow([\"Hosting Name\", \"Features\", \"Pricing\"])\n",
    "    writer.writerows(data)"
   ]
  },
  {
   "cell_type": "code",
   "execution_count": 72,
   "id": "abead920-bae3-4f02-9ff6-af410e7e4056",
   "metadata": {},
   "outputs": [],
   "source": [
    "driver.quit()"
   ]
  }
 ],
 "metadata": {
  "kernelspec": {
   "display_name": "Python 3 (ipykernel)",
   "language": "python",
   "name": "python3"
  },
  "language_info": {
   "codemirror_mode": {
    "name": "ipython",
    "version": 3
   },
   "file_extension": ".py",
   "mimetype": "text/x-python",
   "name": "python",
   "nbconvert_exporter": "python",
   "pygments_lexer": "ipython3",
   "version": "3.9.17"
  }
 },
 "nbformat": 4,
 "nbformat_minor": 5
}
