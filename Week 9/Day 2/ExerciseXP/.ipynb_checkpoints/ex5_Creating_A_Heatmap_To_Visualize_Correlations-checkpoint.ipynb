{
 "cells": [
  {
   "cell_type": "code",
   "execution_count": 3,
   "id": "2d2c7289",
   "metadata": {},
   "outputs": [
    {
     "data": {
      "text/html": [
       "<div>\n",
       "<style scoped>\n",
       "    .dataframe tbody tr th:only-of-type {\n",
       "        vertical-align: middle;\n",
       "    }\n",
       "\n",
       "    .dataframe tbody tr th {\n",
       "        vertical-align: top;\n",
       "    }\n",
       "\n",
       "    .dataframe thead th {\n",
       "        text-align: right;\n",
       "    }\n",
       "</style>\n",
       "<table border=\"1\" class=\"dataframe\">\n",
       "  <thead>\n",
       "    <tr style=\"text-align: right;\">\n",
       "      <th></th>\n",
       "      <th>Timestamp</th>\n",
       "      <th>Choose your gender</th>\n",
       "      <th>Age</th>\n",
       "      <th>What is your course?</th>\n",
       "      <th>Your current year of Study</th>\n",
       "      <th>What is your CGPA?</th>\n",
       "      <th>Marital status</th>\n",
       "      <th>Do you have Depression?</th>\n",
       "      <th>Do you have Anxiety?</th>\n",
       "      <th>Do you have Panic attack?</th>\n",
       "      <th>Did you seek any specialist for a treatment?</th>\n",
       "    </tr>\n",
       "  </thead>\n",
       "  <tbody>\n",
       "    <tr>\n",
       "      <th>0</th>\n",
       "      <td>8/7/2020 12:02</td>\n",
       "      <td>Female</td>\n",
       "      <td>18.0</td>\n",
       "      <td>Engineering</td>\n",
       "      <td>year 1</td>\n",
       "      <td>3.00 - 3.49</td>\n",
       "      <td>No</td>\n",
       "      <td>Yes</td>\n",
       "      <td>No</td>\n",
       "      <td>Yes</td>\n",
       "      <td>No</td>\n",
       "    </tr>\n",
       "    <tr>\n",
       "      <th>1</th>\n",
       "      <td>8/7/2020 12:04</td>\n",
       "      <td>Male</td>\n",
       "      <td>21.0</td>\n",
       "      <td>Islamic education</td>\n",
       "      <td>year 2</td>\n",
       "      <td>3.00 - 3.49</td>\n",
       "      <td>No</td>\n",
       "      <td>No</td>\n",
       "      <td>Yes</td>\n",
       "      <td>No</td>\n",
       "      <td>No</td>\n",
       "    </tr>\n",
       "    <tr>\n",
       "      <th>2</th>\n",
       "      <td>8/7/2020 12:05</td>\n",
       "      <td>Male</td>\n",
       "      <td>19.0</td>\n",
       "      <td>BIT</td>\n",
       "      <td>Year 1</td>\n",
       "      <td>3.00 - 3.49</td>\n",
       "      <td>No</td>\n",
       "      <td>Yes</td>\n",
       "      <td>Yes</td>\n",
       "      <td>Yes</td>\n",
       "      <td>No</td>\n",
       "    </tr>\n",
       "    <tr>\n",
       "      <th>3</th>\n",
       "      <td>8/7/2020 12:06</td>\n",
       "      <td>Female</td>\n",
       "      <td>22.0</td>\n",
       "      <td>Laws</td>\n",
       "      <td>year 3</td>\n",
       "      <td>3.00 - 3.49</td>\n",
       "      <td>Yes</td>\n",
       "      <td>Yes</td>\n",
       "      <td>No</td>\n",
       "      <td>No</td>\n",
       "      <td>No</td>\n",
       "    </tr>\n",
       "    <tr>\n",
       "      <th>4</th>\n",
       "      <td>8/7/2020 12:13</td>\n",
       "      <td>Male</td>\n",
       "      <td>23.0</td>\n",
       "      <td>Mathemathics</td>\n",
       "      <td>year 4</td>\n",
       "      <td>3.00 - 3.49</td>\n",
       "      <td>No</td>\n",
       "      <td>No</td>\n",
       "      <td>No</td>\n",
       "      <td>No</td>\n",
       "      <td>No</td>\n",
       "    </tr>\n",
       "  </tbody>\n",
       "</table>\n",
       "</div>"
      ],
      "text/plain": [
       "        Timestamp Choose your gender   Age What is your course?  \\\n",
       "0  8/7/2020 12:02             Female  18.0          Engineering   \n",
       "1  8/7/2020 12:04               Male  21.0    Islamic education   \n",
       "2  8/7/2020 12:05               Male  19.0                  BIT   \n",
       "3  8/7/2020 12:06             Female  22.0                 Laws   \n",
       "4  8/7/2020 12:13               Male  23.0         Mathemathics   \n",
       "\n",
       "  Your current year of Study What is your CGPA? Marital status  \\\n",
       "0                     year 1        3.00 - 3.49             No   \n",
       "1                     year 2        3.00 - 3.49             No   \n",
       "2                     Year 1        3.00 - 3.49             No   \n",
       "3                     year 3        3.00 - 3.49            Yes   \n",
       "4                     year 4        3.00 - 3.49             No   \n",
       "\n",
       "  Do you have Depression? Do you have Anxiety? Do you have Panic attack?  \\\n",
       "0                     Yes                   No                       Yes   \n",
       "1                      No                  Yes                        No   \n",
       "2                     Yes                  Yes                       Yes   \n",
       "3                     Yes                   No                        No   \n",
       "4                      No                   No                        No   \n",
       "\n",
       "  Did you seek any specialist for a treatment?  \n",
       "0                                           No  \n",
       "1                                           No  \n",
       "2                                           No  \n",
       "3                                           No  \n",
       "4                                           No  "
      ]
     },
     "execution_count": 3,
     "metadata": {},
     "output_type": "execute_result"
    }
   ],
   "source": [
    "import pandas as pd\n",
    "\n",
    "file = (r'C:\\Users\\bbrow\\Desktop\\Courses\\Developers Institute\\Exercises\\Week 9\\Day 2\\ExerciseXP\\student-mental-health\\Student Mental Health.csv')\n",
    "stm_df = pd.read_csv(file)\n",
    "stm_df.head()"
   ]
  },
  {
   "cell_type": "code",
   "execution_count": 4,
   "id": "2a8051fc",
   "metadata": {},
   "outputs": [],
   "source": [
    "stm_df['Do you have Depression?'] = stm_df['Do you have Depression?'].map({'Yes': 1, 'No': 0})\n",
    "stm_df['Do you have Anxiety?'] = stm_df['Do you have Anxiety?'].map({'Yes': 1, 'No': 0})\n",
    "stm_df['Do you have Panic attack?'] = stm_df['Do you have Panic attack?'].map({'Yes': 1, 'No': 0})\n",
    "stm_df['Did you seek any specialist for a treatment?'] = stm_df['Did you seek any specialist for a treatment?'].map({'Yes': 1, 'No': 0})"
   ]
  },
  {
   "cell_type": "code",
   "execution_count": 6,
   "id": "b653486d",
   "metadata": {},
   "outputs": [
    {
     "data": {
      "text/plain": [
       "Age\n",
       "18.0    32\n",
       "19.0    21\n",
       "20.0     6\n",
       "21.0     3\n",
       "22.0     2\n",
       "23.0    13\n",
       "24.0    23\n",
       "dtype: int64"
      ]
     },
     "execution_count": 6,
     "metadata": {},
     "output_type": "execute_result"
    }
   ],
   "source": [
    "stm_df.groupby(['Age']).size()"
   ]
  },
  {
   "cell_type": "code",
   "execution_count": 15,
   "id": "2971d04b",
   "metadata": {},
   "outputs": [
    {
     "name": "stdout",
     "output_type": "stream",
     "text": [
      "               Timestamp Choose your gender   Age What is your course?  \\\n",
      "0         8/7/2020 12:02             Female  18.0          Engineering   \n",
      "1         8/7/2020 12:04               Male  21.0    Islamic education   \n",
      "2         8/7/2020 12:05               Male  19.0                  BIT   \n",
      "3         8/7/2020 12:06             Female  22.0                 Laws   \n",
      "4         8/7/2020 12:13               Male  23.0         Mathemathics   \n",
      "..                   ...                ...   ...                  ...   \n",
      "96   13/07/2020 19:56:49             Female  21.0                  BCS   \n",
      "97   13/07/2020 21:21:42               Male  18.0          Engineering   \n",
      "98   13/07/2020 21:22:56             Female  19.0             Nursing    \n",
      "99   13/07/2020 21:23:57             Female  23.0     Pendidikan Islam   \n",
      "100  18/07/2020 20:16:21               Male  20.0   Biomedical science   \n",
      "\n",
      "    Your current year of Study What is your CGPA? Marital status  \\\n",
      "0                       year 1        3.00 - 3.49             No   \n",
      "1                       year 2        3.00 - 3.49             No   \n",
      "2                       Year 1        3.00 - 3.49             No   \n",
      "3                       year 3        3.00 - 3.49            Yes   \n",
      "4                       year 4        3.00 - 3.49             No   \n",
      "..                         ...                ...            ...   \n",
      "96                      year 1        3.50 - 4.00             No   \n",
      "97                      Year 2        3.00 - 3.49             No   \n",
      "98                      Year 3        3.50 - 4.00            Yes   \n",
      "99                      year 4        3.50 - 4.00             No   \n",
      "100                     Year 2        3.00 - 3.49             No   \n",
      "\n",
      "     Do you have Depression?  Do you have Anxiety?  Do you have Panic attack?  \\\n",
      "0                          1                     0                          1   \n",
      "1                          0                     1                          0   \n",
      "2                          1                     1                          1   \n",
      "3                          1                     0                          0   \n",
      "4                          0                     0                          0   \n",
      "..                       ...                   ...                        ...   \n",
      "96                         0                     1                          0   \n",
      "97                         1                     1                          0   \n",
      "98                         1                     0                          1   \n",
      "99                         0                     0                          0   \n",
      "100                        0                     0                          0   \n",
      "\n",
      "     Did you seek any specialist for a treatment?  CGPA_midpoint  \n",
      "0                                               0          3.245  \n",
      "1                                               0          3.245  \n",
      "2                                               0          3.245  \n",
      "3                                               0          3.245  \n",
      "4                                               0          3.245  \n",
      "..                                            ...            ...  \n",
      "96                                              0          3.750  \n",
      "97                                              0          3.245  \n",
      "98                                              0          3.750  \n",
      "99                                              0          3.750  \n",
      "100                                             0          3.245  \n",
      "\n",
      "[101 rows x 12 columns]\n"
     ]
    }
   ],
   "source": [
    "def midpoint(cgpa_range):\n",
    "    low, high = map(float, cgpa_range.split(' - '))\n",
    "    return (low + high) / 2\n",
    "\n",
    "stm_df['CGPA_midpoint'] = stm_df['What is your CGPA?'].apply(midpoint)\n",
    "\n",
    "print(stm_df)\n"
   ]
  },
  {
   "cell_type": "code",
   "execution_count": 17,
   "id": "ceecb206",
   "metadata": {},
   "outputs": [
    {
     "data": {
      "text/plain": [
       "CGPA_midpoint\n",
       "0.995     4\n",
       "2.245     2\n",
       "2.745     4\n",
       "3.245    43\n",
       "3.750    48\n",
       "dtype: int64"
      ]
     },
     "execution_count": 17,
     "metadata": {},
     "output_type": "execute_result"
    }
   ],
   "source": [
    "stm_df.groupby(['CGPA_midpoint']).size()"
   ]
  },
  {
   "cell_type": "code",
   "execution_count": 21,
   "id": "9ed4346c",
   "metadata": {},
   "outputs": [
    {
     "data": {
      "text/html": [
       "<div>\n",
       "<style scoped>\n",
       "    .dataframe tbody tr th:only-of-type {\n",
       "        vertical-align: middle;\n",
       "    }\n",
       "\n",
       "    .dataframe tbody tr th {\n",
       "        vertical-align: top;\n",
       "    }\n",
       "\n",
       "    .dataframe thead th {\n",
       "        text-align: right;\n",
       "    }\n",
       "</style>\n",
       "<table border=\"1\" class=\"dataframe\">\n",
       "  <thead>\n",
       "    <tr style=\"text-align: right;\">\n",
       "      <th></th>\n",
       "      <th>Age</th>\n",
       "      <th>CGPA_midpoint</th>\n",
       "      <th>Do you have Depression?</th>\n",
       "      <th>Do you have Anxiety?</th>\n",
       "      <th>Do you have Panic attack?</th>\n",
       "    </tr>\n",
       "  </thead>\n",
       "  <tbody>\n",
       "    <tr>\n",
       "      <th>0</th>\n",
       "      <td>18.0</td>\n",
       "      <td>3.245</td>\n",
       "      <td>1</td>\n",
       "      <td>0</td>\n",
       "      <td>1</td>\n",
       "    </tr>\n",
       "    <tr>\n",
       "      <th>1</th>\n",
       "      <td>21.0</td>\n",
       "      <td>3.245</td>\n",
       "      <td>0</td>\n",
       "      <td>1</td>\n",
       "      <td>0</td>\n",
       "    </tr>\n",
       "    <tr>\n",
       "      <th>2</th>\n",
       "      <td>19.0</td>\n",
       "      <td>3.245</td>\n",
       "      <td>1</td>\n",
       "      <td>1</td>\n",
       "      <td>1</td>\n",
       "    </tr>\n",
       "    <tr>\n",
       "      <th>3</th>\n",
       "      <td>22.0</td>\n",
       "      <td>3.245</td>\n",
       "      <td>1</td>\n",
       "      <td>0</td>\n",
       "      <td>0</td>\n",
       "    </tr>\n",
       "    <tr>\n",
       "      <th>4</th>\n",
       "      <td>23.0</td>\n",
       "      <td>3.245</td>\n",
       "      <td>0</td>\n",
       "      <td>0</td>\n",
       "      <td>0</td>\n",
       "    </tr>\n",
       "  </tbody>\n",
       "</table>\n",
       "</div>"
      ],
      "text/plain": [
       "    Age  CGPA_midpoint  Do you have Depression?  Do you have Anxiety?  \\\n",
       "0  18.0          3.245                        1                     0   \n",
       "1  21.0          3.245                        0                     1   \n",
       "2  19.0          3.245                        1                     1   \n",
       "3  22.0          3.245                        1                     0   \n",
       "4  23.0          3.245                        0                     0   \n",
       "\n",
       "   Do you have Panic attack?  \n",
       "0                          1  \n",
       "1                          0  \n",
       "2                          1  \n",
       "3                          0  \n",
       "4                          0  "
      ]
     },
     "execution_count": 21,
     "metadata": {},
     "output_type": "execute_result"
    }
   ],
   "source": [
    "new_df = stm_df[['Age', 'CGPA_midpoint', 'Do you have Depression?', 'Do you have Anxiety?', 'Do you have Panic attack?']]\n",
    "new_df.head()"
   ]
  },
  {
   "cell_type": "code",
   "execution_count": 23,
   "id": "18366642",
   "metadata": {},
   "outputs": [
    {
     "data": {
      "image/png": "[encoded data removed]",
      "text/plain": [
       "<Figure size 1000x800 with 2 Axes>"
      ]
     },
     "metadata": {},
     "output_type": "display_data"
    }
   ],
   "source": [
    "correlation_matrix = new_df.corr()\n",
    "\n",
    "\n",
    "plt.figure(figsize = (10,8))\n",
    "sns.heatmap(correlation_matrix, cmap = 'coolwarm')\n",
    "plt.show()\n"
   ]
  }
 ],
 "metadata": {
  "kernelspec": {
   "display_name": "Python 3 (ipykernel)",
   "language": "python",
   "name": "python3"
  },
  "language_info": {
   "codemirror_mode": {
    "name": "ipython",
    "version": 3
   },
   "file_extension": ".py",
   "mimetype": "text/x-python",
   "name": "python",
   "nbconvert_exporter": "python",
   "pygments_lexer": "ipython3",
   "version": "3.9.17"
  }
 },
 "nbformat": 4,
 "nbformat_minor": 5
}
