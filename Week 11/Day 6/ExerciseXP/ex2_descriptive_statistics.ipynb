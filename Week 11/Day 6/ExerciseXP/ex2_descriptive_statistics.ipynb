{
 "cells": [
  {
   "cell_type": "code",
   "execution_count": 5,
   "id": "827d303f",
   "metadata": {},
   "outputs": [],
   "source": [
    "import scipy\n",
    "from scipy import stats\n",
    "import numpy as np"
   ]
  },
  {
   "cell_type": "code",
   "execution_count": 2,
   "id": "db4f4e2d",
   "metadata": {},
   "outputs": [],
   "source": [
    "data = [12, 15, 13, 12, 18, 20, 22, 21]"
   ]
  },
  {
   "cell_type": "code",
   "execution_count": 6,
   "id": "8904537a",
   "metadata": {},
   "outputs": [
    {
     "name": "stdout",
     "output_type": "stream",
     "text": [
      "Mean: 16.625\n",
      "Standard Deviation: 4.138236339311712\n",
      "Median: 16.5\n"
     ]
    }
   ],
   "source": [
    "mean_data = stats.tmean(data)\n",
    "std_data = stats.tstd(data)\n",
    "median_data = np.median(data)\n",
    "\n",
    "print(\"Mean:\", mean_data)\n",
    "print(\"Standard Deviation:\", std_data)\n",
    "print(\"Median:\", median_data)"
   ]
  }
 ],
 "metadata": {
  "kernelspec": {
   "display_name": "Python 3 (ipykernel)",
   "language": "python",
   "name": "python3"
  },
  "language_info": {
   "codemirror_mode": {
    "name": "ipython",
    "version": 3
   },
   "file_extension": ".py",
   "mimetype": "text/x-python",
   "name": "python",
   "nbconvert_exporter": "python",
   "pygments_lexer": "ipython3",
   "version": "3.9.17"
  }
 },
 "nbformat": 4,
 "nbformat_minor": 5
}
