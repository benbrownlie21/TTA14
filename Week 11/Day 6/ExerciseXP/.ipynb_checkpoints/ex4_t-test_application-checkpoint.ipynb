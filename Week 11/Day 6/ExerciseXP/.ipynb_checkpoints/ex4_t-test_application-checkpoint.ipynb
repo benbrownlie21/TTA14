{
 "cells": [
  {
   "cell_type": "code",
   "execution_count": 1,
   "id": "ef01934a-ed88-4d11-9433-e0211c580a87",
   "metadata": {},
   "outputs": [],
   "source": [
    "import numpy as np\n",
    "import scipy\n",
    "from scipy import stats"
   ]
  },
  {
   "cell_type": "code",
   "execution_count": 2,
   "id": "ba434aa2-ede7-4546-aef4-368cf3c10691",
   "metadata": {},
   "outputs": [
    {
     "name": "stdout",
     "output_type": "stream",
     "text": [
      "T-statistics: [ 1.57828592 -1.9250917  -0.86020248 -0.49150526]\n",
      "P-Value: [0.25524263 0.19409032 0.48032777 0.6717148 ]\n"
     ]
    }
   ],
   "source": [
    "np.random.seed(0)\n",
    "group1 = np.random.normal(3, 2.5, size=(2, 4))\n",
    "group2 = np.random.normal(5, 2.5, size=(2, 4))\n",
    "\n",
    "t_statistic, p_value = stats.ttest_ind(group1, group2)\n",
    "print(\"T-statistics:\", t_statistic)\n",
    "print(\"P-Value:\", p_value)"
   ]
  }
 ],
 "metadata": {
  "kernelspec": {
   "display_name": "Python 3 (ipykernel)",
   "language": "python",
   "name": "python3"
  },
  "language_info": {
   "codemirror_mode": {
    "name": "ipython",
    "version": 3
   },
   "file_extension": ".py",
   "mimetype": "text/x-python",
   "name": "python",
   "nbconvert_exporter": "python",
   "pygments_lexer": "ipython3",
   "version": "3.9.17"
  }
 },
 "nbformat": 4,
 "nbformat_minor": 5
}
