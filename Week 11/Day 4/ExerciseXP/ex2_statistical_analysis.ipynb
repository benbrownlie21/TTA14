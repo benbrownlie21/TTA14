{
 "cells": [
  {
   "cell_type": "code",
   "execution_count": 3,
   "id": "edc56b3d",
   "metadata": {},
   "outputs": [
    {
     "name": "stdout",
     "output_type": "stream",
     "text": [
      "[[53 14 78 48 63  6  9 13 62 64 84 76 93 95 64 72 89 29 31 35 22 89 17 66\n",
      "  60  8 36 77 69 54 72 58 52 60 56 64 40  5 49  2 38 77 34 38 89 97  7  5\n",
      "  32 75]]\n"
     ]
    }
   ],
   "source": [
    "import numpy as np\n",
    "from numpy import random\n",
    "\n",
    "arr = random.randint(0, 100, size=(1, 50))\n",
    "print(arr)"
   ]
  },
  {
   "cell_type": "code",
   "execution_count": 4,
   "id": "3d66d943",
   "metadata": {},
   "outputs": [
    {
     "name": "stdout",
     "output_type": "stream",
     "text": [
      "Mean Value of Dataset: 50.52\n",
      "Median Value of Dataset: 55.0\n",
      "Standard Deviation of Dataset: 27.736070377759\n"
     ]
    }
   ],
   "source": [
    "mean_value = np.mean(arr)\n",
    "median_value = np.median(arr)\n",
    "std_value = np.std(arr)\n",
    "\n",
    "print(\"Mean Value of Dataset:\", mean_value)\n",
    "print(\"Median Value of Dataset:\", median_value)\n",
    "print(\"Standard Deviation of Dataset:\", std_value)"
   ]
  }
 ],
 "metadata": {
  "kernelspec": {
   "display_name": "Python 3 (ipykernel)",
   "language": "python",
   "name": "python3"
  },
  "language_info": {
   "codemirror_mode": {
    "name": "ipython",
    "version": 3
   },
   "file_extension": ".py",
   "mimetype": "text/x-python",
   "name": "python",
   "nbconvert_exporter": "python",
   "pygments_lexer": "ipython3",
   "version": "3.9.17"
  }
 },
 "nbformat": 4,
 "nbformat_minor": 5
}
