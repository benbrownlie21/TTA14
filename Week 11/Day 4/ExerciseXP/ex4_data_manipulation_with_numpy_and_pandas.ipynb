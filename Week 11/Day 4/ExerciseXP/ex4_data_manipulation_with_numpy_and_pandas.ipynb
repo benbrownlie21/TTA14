{
 "cells": [
  {
   "cell_type": "code",
   "execution_count": 1,
   "id": "64409639",
   "metadata": {},
   "outputs": [],
   "source": [
    "import numpy as np\n",
    "import pandas as pd"
   ]
  },
  {
   "cell_type": "code",
   "execution_count": 2,
   "id": "c1a8498a",
   "metadata": {},
   "outputs": [
    {
     "name": "stdout",
     "output_type": "stream",
     "text": [
      "    data\n",
      "0     13\n",
      "1     68\n",
      "2     93\n",
      "3     62\n",
      "4     16\n",
      "5     64\n",
      "6     90\n",
      "7     20\n",
      "8     12\n",
      "9     74\n",
      "10    95\n",
      "11    72\n",
      "12     0\n",
      "13    51\n",
      "14    84\n",
      "15    18\n",
      "16    38\n",
      "17    76\n",
      "18    23\n",
      "19    24\n"
     ]
    }
   ],
   "source": [
    "data = np.random.randint(0, 100, size=20)\n",
    "df = pd.DataFrame(data, columns=['data'])\n",
    "print(df)"
   ]
  },
  {
   "cell_type": "code",
   "execution_count": 9,
   "id": "c9ba6ccf",
   "metadata": {},
   "outputs": [
    {
     "name": "stdout",
     "output_type": "stream",
     "text": [
      "Conditional Selection: [[93]\n",
      " [90]\n",
      " [74]\n",
      " [95]\n",
      " [84]\n",
      " [76]]\n"
     ]
    }
   ],
   "source": [
    "#Conditional selection of data\n",
    "con_df = df[df['data'] > 72]\n",
    "print(\"Conditional Selection:\", con_df.values)"
   ]
  },
  {
   "cell_type": "code",
   "execution_count": 11,
   "id": "f4b295cd",
   "metadata": {},
   "outputs": [
    {
     "name": "stdout",
     "output_type": "stream",
     "text": [
      "Average of DataFrame: [49.65]\n",
      "Median of DataFrame: [56.5]\n",
      "Sum of DataFrame: [993]\n"
     ]
    }
   ],
   "source": [
    "#Aggregation functions like sum and average\n",
    "avg_df = np.mean(df, axis=0)\n",
    "med_df = np.median(df, axis=0)\n",
    "sum_df = np.sum(df, axis=0)\n",
    "\n",
    "print(\"Average of DataFrame:\", avg_df.values)\n",
    "print(\"Median of DataFrame:\", med_df)\n",
    "print(\"Sum of DataFrame:\", sum_df.values)"
   ]
  }
 ],
 "metadata": {
  "kernelspec": {
   "display_name": "Python 3 (ipykernel)",
   "language": "python",
   "name": "python3"
  },
  "language_info": {
   "codemirror_mode": {
    "name": "ipython",
    "version": 3
   },
   "file_extension": ".py",
   "mimetype": "text/x-python",
   "name": "python",
   "nbconvert_exporter": "python",
   "pygments_lexer": "ipython3",
   "version": "3.9.17"
  }
 },
 "nbformat": 4,
 "nbformat_minor": 5
}
