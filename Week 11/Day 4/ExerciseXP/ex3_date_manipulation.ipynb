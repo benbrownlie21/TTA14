{
 "cells": [
  {
   "cell_type": "code",
   "execution_count": 1,
   "id": "33332abb",
   "metadata": {},
   "outputs": [
    {
     "name": "stdout",
     "output_type": "stream",
     "text": [
      "['2023-01-01' '2023-01-02' '2023-01-03' '2023-01-04' '2023-01-05'\n",
      " '2023-01-06' '2023-01-07' '2023-01-08' '2023-01-09' '2023-01-10'\n",
      " '2023-01-11' '2023-01-12' '2023-01-13' '2023-01-14' '2023-01-15'\n",
      " '2023-01-16' '2023-01-17' '2023-01-18' '2023-01-19' '2023-01-20'\n",
      " '2023-01-21' '2023-01-22' '2023-01-23' '2023-01-24' '2023-01-25'\n",
      " '2023-01-26' '2023-01-27' '2023-01-28' '2023-01-29' '2023-01-30'\n",
      " '2023-01-31']\n"
     ]
    }
   ],
   "source": [
    "import numpy as np\n",
    "\n",
    "d_arr = np.arange('2023-01-01', '2023-02-01', dtype='datetime64[D]')\n",
    "print(d_arr)"
   ]
  },
  {
   "cell_type": "code",
   "execution_count": 9,
   "id": "4cdb76b4",
   "metadata": {},
   "outputs": [
    {
     "name": "stdout",
     "output_type": "stream",
     "text": [
      "Formatted Dates: ['01-01-2023', '02-01-2023', '03-01-2023', '04-01-2023', '05-01-2023', '06-01-2023', '07-01-2023', '08-01-2023', '09-01-2023', '10-01-2023', '11-01-2023', '12-01-2023', '13-01-2023', '14-01-2023', '15-01-2023', '16-01-2023', '17-01-2023', '18-01-2023', '19-01-2023', '20-01-2023', '21-01-2023', '22-01-2023', '23-01-2023', '24-01-2023', '25-01-2023', '26-01-2023', '27-01-2023', '28-01-2023', '29-01-2023', '30-01-2023', '31-01-2023']\n"
     ]
    }
   ],
   "source": [
    "import datetime\n",
    "\n",
    "date_list = [datetime.date.fromisoformat(str(date)) for date in d_arr]\n",
    "\n",
    "ftd_dates = [date.strftime('%d-%m-%Y') for date in date_list]\n",
    "print(\"Formatted Dates:\", ftd_dates)"
   ]
  }
 ],
 "metadata": {
  "kernelspec": {
   "display_name": "Python 3 (ipykernel)",
   "language": "python",
   "name": "python3"
  },
  "language_info": {
   "codemirror_mode": {
    "name": "ipython",
    "version": 3
   },
   "file_extension": ".py",
   "mimetype": "text/x-python",
   "name": "python",
   "nbconvert_exporter": "python",
   "pygments_lexer": "ipython3",
   "version": "3.9.17"
  }
 },
 "nbformat": 4,
 "nbformat_minor": 5
}
