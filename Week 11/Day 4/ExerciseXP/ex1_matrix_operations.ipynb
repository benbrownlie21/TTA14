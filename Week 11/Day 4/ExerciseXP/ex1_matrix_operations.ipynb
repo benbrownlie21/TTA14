{
 "cells": [
  {
   "cell_type": "code",
   "execution_count": 6,
   "id": "99a54f76",
   "metadata": {},
   "outputs": [
    {
     "name": "stdout",
     "output_type": "stream",
     "text": [
      "Numpy Matrix:\n",
      " [[24 49 98]\n",
      " [57 46 55]\n",
      " [24 95 85]]\n"
     ]
    }
   ],
   "source": [
    "import numpy as np\n",
    "from numpy import random\n",
    "\n",
    "arr = random.randint(0, 100, size=(3, 3))\n",
    "print(\"Numpy Matrix:\\n\", arr)"
   ]
  },
  {
   "cell_type": "code",
   "execution_count": 4,
   "id": "ddd3bb71",
   "metadata": {},
   "outputs": [
    {
     "name": "stdout",
     "output_type": "stream",
     "text": [
      "Determinant of 3x3 matrix: -67668\n"
     ]
    }
   ],
   "source": [
    "#Calculate the determinant\n",
    "det = np.linalg.det(arr)\n",
    "print(\"Determinant of 3x3 matrix:\", int(det))"
   ]
  },
  {
   "cell_type": "code",
   "execution_count": 8,
   "id": "e10d09d3",
   "metadata": {},
   "outputs": [
    {
     "name": "stdout",
     "output_type": "stream",
     "text": [
      "Inverse of 3x3 matrix:\n",
      " [[-0.00602677  0.02358004 -0.00830916]\n",
      " [-0.01615542 -0.00142993  0.0195515 ]\n",
      " [ 0.01975774 -0.00505974 -0.00774085]]\n"
     ]
    }
   ],
   "source": [
    "#Find the inverse of the matrix\n",
    "inv = np.linalg.inv(arr)\n",
    "print(\"Inverse of 3x3 matrix:\\n\", inv)"
   ]
  }
 ],
 "metadata": {
  "kernelspec": {
   "display_name": "Python 3 (ipykernel)",
   "language": "python",
   "name": "python3"
  },
  "language_info": {
   "codemirror_mode": {
    "name": "ipython",
    "version": 3
   },
   "file_extension": ".py",
   "mimetype": "text/x-python",
   "name": "python",
   "nbconvert_exporter": "python",
   "pygments_lexer": "ipython3",
   "version": "3.9.17"
  }
 },
 "nbformat": 4,
 "nbformat_minor": 5
}
