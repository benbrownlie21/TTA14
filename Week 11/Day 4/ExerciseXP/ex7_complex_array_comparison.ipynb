{
 "cells": [
  {
   "cell_type": "code",
   "execution_count": 1,
   "id": "30dd4d33",
   "metadata": {},
   "outputs": [
    {
     "name": "stdout",
     "output_type": "stream",
     "text": [
      "Sum of Matrices:\n",
      " [[3 4]\n",
      " [5 6]]\n",
      "Difference of Matrices:\n",
      " [[1 2]\n",
      " [3 4]]\n"
     ]
    }
   ],
   "source": [
    "import numpy as np\n",
    "matrix_B = np.array([[2, 3], [4, 5]])\n",
    "matrix_C = np.array([[1, 1], [1, 1]])\n",
    "\n",
    "# Adding and subtracting matrices\n",
    "sum_matrix = np.add(matrix_B, matrix_C)\n",
    "diff_matrix = np.subtract(matrix_B, matrix_C)\n",
    "\n",
    "print(\"Sum of Matrices:\\n\", sum_matrix)\n",
    "print(\"Difference of Matrices:\\n\", diff_matrix)"
   ]
  }
 ],
 "metadata": {
  "kernelspec": {
   "display_name": "Python 3 (ipykernel)",
   "language": "python",
   "name": "python3"
  },
  "language_info": {
   "codemirror_mode": {
    "name": "ipython",
    "version": 3
   },
   "file_extension": ".py",
   "mimetype": "text/x-python",
   "name": "python",
   "nbconvert_exporter": "python",
   "pygments_lexer": "ipython3",
   "version": "3.9.17"
  }
 },
 "nbformat": 4,
 "nbformat_minor": 5
}
