{
 "cells": [
  {
   "cell_type": "code",
   "execution_count": 1,
   "id": "8ae7317b",
   "metadata": {},
   "outputs": [],
   "source": [
    "import numpy as np\n",
    "\n",
    "# Productivity scores of employees before the training program\n",
    "productivity_before = np.random.normal(loc=50, scale=10, size=30)\n",
    "\n",
    "# Productivity scores of the same employees after the training program\n",
    "productivity_after = productivity_before + np.random.normal(loc=5, scale=3, size=30)\n",
    "\n",
    "# Your task is to formulate a hypothesis regarding the training program's effectiveness \n",
    "# and test it using basic statistical functions in NumPy."
   ]
  },
  {
   "cell_type": "code",
   "execution_count": 3,
   "id": "211640a2",
   "metadata": {},
   "outputs": [
    {
     "name": "stdout",
     "output_type": "stream",
     "text": [
      "\n",
      "Two-Sample t-test - t-statistic: -2.223857527136336\n",
      "Two Sample t-test - p-value: 0.030066159177412212\n",
      "Reject the null hypothesis\n"
     ]
    }
   ],
   "source": [
    "from scipy import stats\n",
    "\n",
    "t_statistic, p_value = stats.ttest_ind(productivity_before, productivity_after)\n",
    "print()\n",
    "print(\"Two-Sample t-test - t-statistic:\", t_statistic)\n",
    "print(\"Two Sample t-test - p-value:\", p_value)\n",
    "\n",
    "alpha = 0.05\n",
    "if p_value < alpha:\n",
    "    print(\"Reject the null hypothesis\")\n",
    "else:\n",
    "    print(\"Fail to reject the null hypothesis\")"
   ]
  }
 ],
 "metadata": {
  "kernelspec": {
   "display_name": "Python 3 (ipykernel)",
   "language": "python",
   "name": "python3"
  },
  "language_info": {
   "codemirror_mode": {
    "name": "ipython",
    "version": 3
   },
   "file_extension": ".py",
   "mimetype": "text/x-python",
   "name": "python",
   "nbconvert_exporter": "python",
   "pygments_lexer": "ipython3",
   "version": "3.9.17"
  }
 },
 "nbformat": 4,
 "nbformat_minor": 5
}
