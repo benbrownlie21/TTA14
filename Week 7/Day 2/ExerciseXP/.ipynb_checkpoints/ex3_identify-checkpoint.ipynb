{
 "cells": [
  {
   "cell_type": "code",
   "execution_count": 1,
   "id": "7739cc6d",
   "metadata": {},
   "outputs": [],
   "source": [
    "import pandas as pd"
   ]
  },
  {
   "cell_type": "code",
   "execution_count": 2,
   "id": "8c9202c8",
   "metadata": {},
   "outputs": [],
   "source": [
    "df = pd.read_csv('Time Americans Spend Sleeping.csv')"
   ]
  },
  {
   "cell_type": "code",
   "execution_count": 3,
   "id": "ba7e95eb",
   "metadata": {},
   "outputs": [
    {
     "data": {
      "text/html": [
       "<div>\n",
       "<style scoped>\n",
       "    .dataframe tbody tr th:only-of-type {\n",
       "        vertical-align: middle;\n",
       "    }\n",
       "\n",
       "    .dataframe tbody tr th {\n",
       "        vertical-align: top;\n",
       "    }\n",
       "\n",
       "    .dataframe thead th {\n",
       "        text-align: right;\n",
       "    }\n",
       "</style>\n",
       "<table border=\"1\" class=\"dataframe\">\n",
       "  <thead>\n",
       "    <tr style=\"text-align: right;\">\n",
       "      <th></th>\n",
       "      <th>index</th>\n",
       "      <th>Year</th>\n",
       "      <th>Period</th>\n",
       "      <th>Avg hrs per day sleeping</th>\n",
       "      <th>Standard Error</th>\n",
       "      <th>Type of Days</th>\n",
       "      <th>Age Group</th>\n",
       "      <th>Activity</th>\n",
       "      <th>Sex</th>\n",
       "    </tr>\n",
       "  </thead>\n",
       "  <tbody>\n",
       "    <tr>\n",
       "      <th>0</th>\n",
       "      <td>0</td>\n",
       "      <td>2003</td>\n",
       "      <td>Annual</td>\n",
       "      <td>8.57</td>\n",
       "      <td>0.018</td>\n",
       "      <td>All days</td>\n",
       "      <td>15 years and over</td>\n",
       "      <td>Sleeping</td>\n",
       "      <td>Both</td>\n",
       "    </tr>\n",
       "    <tr>\n",
       "      <th>1</th>\n",
       "      <td>1</td>\n",
       "      <td>2004</td>\n",
       "      <td>Annual</td>\n",
       "      <td>8.55</td>\n",
       "      <td>0.026</td>\n",
       "      <td>All days</td>\n",
       "      <td>15 years and over</td>\n",
       "      <td>Sleeping</td>\n",
       "      <td>Both</td>\n",
       "    </tr>\n",
       "    <tr>\n",
       "      <th>2</th>\n",
       "      <td>2</td>\n",
       "      <td>2005</td>\n",
       "      <td>Annual</td>\n",
       "      <td>8.62</td>\n",
       "      <td>0.023</td>\n",
       "      <td>All days</td>\n",
       "      <td>15 years and over</td>\n",
       "      <td>Sleeping</td>\n",
       "      <td>Both</td>\n",
       "    </tr>\n",
       "    <tr>\n",
       "      <th>3</th>\n",
       "      <td>3</td>\n",
       "      <td>2006</td>\n",
       "      <td>Annual</td>\n",
       "      <td>8.63</td>\n",
       "      <td>0.024</td>\n",
       "      <td>All days</td>\n",
       "      <td>15 years and over</td>\n",
       "      <td>Sleeping</td>\n",
       "      <td>Both</td>\n",
       "    </tr>\n",
       "    <tr>\n",
       "      <th>4</th>\n",
       "      <td>4</td>\n",
       "      <td>2007</td>\n",
       "      <td>Annual</td>\n",
       "      <td>8.57</td>\n",
       "      <td>0.024</td>\n",
       "      <td>All days</td>\n",
       "      <td>15 years and over</td>\n",
       "      <td>Sleeping</td>\n",
       "      <td>Both</td>\n",
       "    </tr>\n",
       "  </tbody>\n",
       "</table>\n",
       "</div>"
      ],
      "text/plain": [
       "   index  Year  Period  Avg hrs per day sleeping  Standard Error Type of Days  \\\n",
       "0      0  2003  Annual                      8.57           0.018     All days   \n",
       "1      1  2004  Annual                      8.55           0.026     All days   \n",
       "2      2  2005  Annual                      8.62           0.023     All days   \n",
       "3      3  2006  Annual                      8.63           0.024     All days   \n",
       "4      4  2007  Annual                      8.57           0.024     All days   \n",
       "\n",
       "           Age Group  Activity   Sex  \n",
       "0  15 years and over  Sleeping  Both  \n",
       "1  15 years and over  Sleeping  Both  \n",
       "2  15 years and over  Sleeping  Both  \n",
       "3  15 years and over  Sleeping  Both  \n",
       "4  15 years and over  Sleeping  Both  "
      ]
     },
     "execution_count": 3,
     "metadata": {},
     "output_type": "execute_result"
    }
   ],
   "source": [
    "df.head()"
   ]
  },
  {
   "cell_type": "markdown",
   "id": "5a24cbc9",
   "metadata": {},
   "source": [
    "Year = Quantitative,\n",
    "Period = Qualitative,\n",
    "Avg hrs per day sleeping = Quantitative,\n",
    "Standard Error = Quantitative,\n",
    "Type of Days = Qualitative,\n",
    "Age Group = Qualitative,\n",
    "Activity = Qualitative,\n",
    "Sex = Qualitative"
   ]
  }
 ],
 "metadata": {
  "kernelspec": {
   "display_name": "Python 3 (ipykernel)",
   "language": "python",
   "name": "python3"
  },
  "language_info": {
   "codemirror_mode": {
    "name": "ipython",
    "version": 3
   },
   "file_extension": ".py",
   "mimetype": "text/x-python",
   "name": "python",
   "nbconvert_exporter": "python",
   "pygments_lexer": "ipython3",
   "version": "3.9.17"
  }
 },
 "nbformat": 4,
 "nbformat_minor": 5
}
