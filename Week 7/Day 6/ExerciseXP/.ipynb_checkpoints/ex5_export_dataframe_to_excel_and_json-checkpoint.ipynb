{
 "cells": [
  {
   "cell_type": "code",
   "execution_count": 1,
   "id": "b02055ca",
   "metadata": {},
   "outputs": [],
   "source": [
    "import pandas as pd"
   ]
  },
  {
   "cell_type": "code",
   "execution_count": 7,
   "id": "c70b838d",
   "metadata": {},
   "outputs": [],
   "source": [
    "df = pd.DataFrame({\n",
    "    'Name': ['Ben', 'Tom', 'James', 'Sarah', 'Rachel'],\n",
    "    'Age': [34, 25, 12, 43, 23],\n",
    "    'Employed': [True, True, False, True, False]\n",
    "})\n",
    "\n",
    "df.to_excel('my_excel_df.xlsx', sheet_name='Sheet1')\n",
    "\n",
    "df.to_json('my_json_df.json')"
   ]
  },
  {
   "cell_type": "code",
   "execution_count": null,
   "id": "52fe785e",
   "metadata": {},
   "outputs": [],
   "source": []
  }
 ],
 "metadata": {
  "kernelspec": {
   "display_name": "Python 3 (ipykernel)",
   "language": "python",
   "name": "python3"
  },
  "language_info": {
   "codemirror_mode": {
    "name": "ipython",
    "version": 3
   },
   "file_extension": ".py",
   "mimetype": "text/x-python",
   "name": "python",
   "nbconvert_exporter": "python",
   "pygments_lexer": "ipython3",
   "version": "3.9.17"
  }
 },
 "nbformat": 4,
 "nbformat_minor": 5
}
