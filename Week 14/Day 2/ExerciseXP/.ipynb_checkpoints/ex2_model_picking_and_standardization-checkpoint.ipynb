{
 "cells": [
  {
   "cell_type": "markdown",
   "id": "06d1d263-bfb6-4b2a-9bc9-9c6dc4efa8b9",
   "metadata": {},
   "source": [
    "1. Use the Eager Learners classification type. I suggest this because we have quite a lot of medical data in the dataset so this will be good for the model to learn from the existing data."
   ]
  },
  {
   "cell_type": "markdown",
   "id": "3a9b67a4-bb3c-4993-b2f6-4bb494618c19",
   "metadata": {},
   "source": [
    "2. I would recommend to not standardize the data. As the data is about human patients I believe it is important to keep the data as it is, not including cleaning it where necessary."
   ]
  }
 ],
 "metadata": {
  "kernelspec": {
   "display_name": "Python 3 (ipykernel)",
   "language": "python",
   "name": "python3"
  },
  "language_info": {
   "codemirror_mode": {
    "name": "ipython",
    "version": 3
   },
   "file_extension": ".py",
   "mimetype": "text/x-python",
   "name": "python",
   "nbconvert_exporter": "python",
   "pygments_lexer": "ipython3",
   "version": "3.9.17"
  }
 },
 "nbformat": 4,
 "nbformat_minor": 5
}
